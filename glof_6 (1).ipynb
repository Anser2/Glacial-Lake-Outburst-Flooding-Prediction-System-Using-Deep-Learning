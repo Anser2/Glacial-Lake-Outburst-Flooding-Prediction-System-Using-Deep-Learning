{
  "cells": [
    {
      "cell_type": "code",
      "execution_count": null,
      "metadata": {
        "colab": {
          "base_uri": "https://localhost:8080/"
        },
        "id": "HVKyhYVk47qr",
        "outputId": "21ca2e29-16bb-448a-e2cc-21986588e017"
      },
      "outputs": [
        {
          "output_type": "stream",
          "name": "stdout",
          "text": [
            "Requirement already satisfied: xarray in /usr/local/lib/python3.10/dist-packages (2024.6.0)\n",
            "Requirement already satisfied: numpy>=1.23 in /usr/local/lib/python3.10/dist-packages (from xarray) (1.26.4)\n",
            "Requirement already satisfied: packaging>=23.1 in /usr/local/lib/python3.10/dist-packages (from xarray) (24.1)\n",
            "Requirement already satisfied: pandas>=2.0 in /usr/local/lib/python3.10/dist-packages (from xarray) (2.1.4)\n",
            "Requirement already satisfied: python-dateutil>=2.8.2 in /usr/local/lib/python3.10/dist-packages (from pandas>=2.0->xarray) (2.8.2)\n",
            "Requirement already satisfied: pytz>=2020.1 in /usr/local/lib/python3.10/dist-packages (from pandas>=2.0->xarray) (2024.1)\n",
            "Requirement already satisfied: tzdata>=2022.1 in /usr/local/lib/python3.10/dist-packages (from pandas>=2.0->xarray) (2024.1)\n",
            "Requirement already satisfied: six>=1.5 in /usr/local/lib/python3.10/dist-packages (from python-dateutil>=2.8.2->pandas>=2.0->xarray) (1.16.0)\n",
            "Drive already mounted at /content/drive; to attempt to forcibly remount, call drive.mount(\"/content/drive\", force_remount=True).\n"
          ]
        }
      ],
      "source": [
        "!pip install xarray\n",
        "import xarray as xr\n",
        "import pandas as pd\n",
        "import numpy as np\n",
        "import matplotlib.pyplot as plt\n",
        "from google.colab import drive\n",
        "from sklearn.preprocessing import StandardScaler\n",
        "drive.mount('/content/drive')"
      ]
    },
    {
      "cell_type": "code",
      "execution_count": null,
      "metadata": {
        "id": "DVIJ0wBo4uCw"
      },
      "outputs": [],
      "source": [
        "path= '/content/drive/My Drive/DS/ITS_LIVE_velocity_120m_RGI12A_0000_v02_chota_wala.nc'\n",
        "ds = xr.open_ds('/content/drive/My Drive/DS/ITS_LIVE_velocity_120m_RGI12A_0000_v02_chota_wala.nc', chunks={'time': 10})"
      ]
    },
    {
      "cell_type": "code",
      "execution_count": null,
      "metadata": {
        "id": "akvXkBKb4rIx"
      },
      "outputs": [],
      "source": [
        "\n",
        "\n",
        "# Extract the relevant variables\n",
        "vx = ds['vx'].values\n",
        "vy = ds['vy'].data\n",
        "v = ds['v'].data\n",
        "dv_dt = ds['dv_dt'].data\n",
        "dvx_dt = ds['dvx_dt'].data\n",
        "dvy_dt = ds['dvy_dt'].data\n",
        "v_amp = ds['v_amp'].data\n",
        "vx_amp = ds['vx_amp'].data\n",
        "vy_amp = ds['vy_amp'].data\n",
        "floatingice = ds['floatingice'].data\n",
        "landice = ds['landice'].data\n",
        "\n",
        "# Optionally, compute means or other summary statistics if needed\n",
        "vx_mean = vx.mean().compute()\n",
        "vy_mean = vy.mean().compute()\n",
        "\n",
        "# Close the ds\n",
        "ds.close()\n"
      ]
    },
    {
      "cell_type": "code",
      "execution_count": null,
      "metadata": {
        "id": "xoT06fzg5zLp"
      },
      "outputs": [],
      "source": [
        "import xarray as xr\n",
        "\n",
        "def inspect_netcdf(file_path):\n",
        "    # Open the NetCDF file\n",
        "    ds = xr.open_ds(file_path)\n",
        "\n",
        "    # Print the ds's summary\n",
        "    print(ds)\n",
        "\n",
        "    # Print the variable names and their attributes\n",
        "    for var in ds.variables:\n",
        "        print(f\"Variable: {var}\")\n",
        "        print(ds[var])\n",
        "\n",
        "    # Close the ds\n",
        "    ds.close()\n",
        "\n",
        "# Replace 'path_to_your_file.nc' with the actual path to your NetCDF file\n",
        "file_path = 'path_to_your_file.nc'\n",
        "inspect_netcdf(path)\n"
      ]
    },
    {
      "cell_type": "code",
      "execution_count": null,
      "metadata": {
        "id": "1va-YpgFcwAv"
      },
      "outputs": [],
      "source": [
        "!pip install itslive\n"
      ]
    },
    {
      "cell_type": "code",
      "execution_count": null,
      "metadata": {
        "id": "RFa2QyigsMMh"
      },
      "outputs": [],
      "source": [
        "!pip install rich"
      ]
    },
    {
      "cell_type": "code",
      "execution_count": null,
      "metadata": {
        "id": "vmvHnHqgsQDA"
      },
      "outputs": [],
      "source": [
        "input_csv = \"/content/drive/MyDrive/DS/CSVs/Shishper_Glacier_Coordinates_Optimized.csv\"\n",
        "output_dir = \"/content/drive/MyDrive/DS/CSVs/Output_Shishper_Glacier_Coordinates_Optimized\""
      ]
    },
    {
      "cell_type": "code",
      "execution_count": null,
      "metadata": {
        "colab": {
          "base_uri": "https://localhost:8080/"
        },
        "id": "Rdraz6tmdABA",
        "outputId": "acbc5b9b-5db9-41cc-ee98-8c35b9bde355"
      },
      "outputs": [
        {
          "output_type": "stream",
          "name": "stdout",
          "text": [
            "\u001b[2KProcessing 1125 coordinates... \u001b[90m━━━━━━━━━━━━━━━━━━━━━━━━━━━━━━━━━━━━━━━━\u001b[0m \u001b[35m100%\u001b[0m \u001b[33m0:13:34\u001b[0m\n",
            "\u001b[?25h"
          ]
        }
      ],
      "source": [
        "!python itslive_shisper.py --input-coordinates {input_csv} --variables v --format csv --outdir {output_dir}\n"
      ]
    },
    {
      "cell_type": "code",
      "execution_count": null,
      "metadata": {
        "colab": {
          "base_uri": "https://localhost:8080/"
        },
        "id": "0yJgNUlyB8MJ",
        "outputId": "fca85919-5578-4334-8e96-eb17003cc696"
      },
      "outputs": [
        {
          "output_type": "stream",
          "name": "stdout",
          "text": [
            "Missing values in each column:\n",
            "mid_date           0\n",
            "lon                0\n",
            "lat                0\n",
            "v [m/yr]           0\n",
            "v_error [m/yr]     0\n",
            "vx [m/yr]          0\n",
            "vx_error [m/yr]    0\n",
            "vy [m/yr]          0\n",
            "vy_error [m/yr]    0\n",
            "date_dt [days]     0\n",
            "mission            0\n",
            "satellite          0\n",
            "epsg               0\n",
            "dtype: int64\n"
          ]
        }
      ],
      "source": [
        "import pandas as pd\n",
        "import glob\n",
        "import numpy as np\n",
        "from sklearn.preprocessing import MinMaxScaler\n",
        "from sklearn.model_selection import train_test_split\n",
        "from tensorflow.keras.models import Sequential\n",
        "from tensorflow.keras.layers import LSTM, Dense\n",
        "from tensorflow.keras.layers import LSTM, Dense, BatchNormalization, Dropout, Input\n",
        "\n",
        "\n",
        "# Path to your CSV files\n",
        "path = '/content/drive/MyDrive/DS/CSVs/Output_Shishper_Glacier_Coordinates_Optimized'\n",
        "all_files = glob.glob(path + \"/*.csv\")\n",
        "\n",
        "# List to hold the dataframes\n",
        "dfs = []\n",
        "\n",
        "# Read each file and append to the list\n",
        "for filename in all_files:\n",
        "    df = pd.read_csv(filename)\n",
        "    dfs.append(df)\n",
        "\n",
        "# Concatenate all dataframes\n",
        "combined_df = pd.concat(dfs, ignore_index=True)\n",
        "\n",
        "# Save the combined dataframe for verification\n",
        "combined_df.to_csv('/content/drive/MyDrive/DS/CSVs/Output_Shishper_Glacier_Coordinates_Optimized/combined_data.csv', index=False)\n",
        "\n",
        "# Check for missing values\n",
        "missing_values = combined_df.isnull().sum()\n",
        "\n",
        "# Print missing values\n",
        "print(\"Missing values in each column:\")\n",
        "print(missing_values)\n",
        "\n",
        "# Fill missing values or drop rows with missing values\n",
        "combined_df = combined_df.dropna()  # This drops any rows with missing values\n",
        "\n"
      ]
    },
    {
      "cell_type": "code",
      "execution_count": null,
      "metadata": {
        "colab": {
          "base_uri": "https://localhost:8080/"
        },
        "id": "KKTTt3gyCY1e",
        "outputId": "c7b226ab-62b9-46f7-9a6d-98f1193d948c"
      },
      "outputs": [
        {
          "output_type": "stream",
          "name": "stdout",
          "text": [
            "Epoch 1/50\n",
            "\u001b[1m133/133\u001b[0m \u001b[32m━━━━━━━━━━━━━━━━━━━━\u001b[0m\u001b[37m\u001b[0m \u001b[1m11s\u001b[0m 25ms/step - loss: 1.5948 - mae: 0.6452 - mse: 0.6948 - val_loss: 0.9074 - val_mae: 0.1235 - val_mse: 0.0207\n",
            "Epoch 2/50\n",
            "\u001b[1m133/133\u001b[0m \u001b[32m━━━━━━━━━━━━━━━━━━━━\u001b[0m\u001b[37m\u001b[0m \u001b[1m6s\u001b[0m 41ms/step - loss: 1.1499 - mae: 0.3999 - mse: 0.2684 - val_loss: 0.9097 - val_mae: 0.1964 - val_mse: 0.0444\n",
            "Epoch 3/50\n",
            "\u001b[1m133/133\u001b[0m \u001b[32m━━━━━━━━━━━━━━━━━━━━\u001b[0m\u001b[37m\u001b[0m \u001b[1m7s\u001b[0m 14ms/step - loss: 1.0188 - mae: 0.3044 - mse: 0.1592 - val_loss: 0.9295 - val_mae: 0.2843 - val_mse: 0.0878\n",
            "Epoch 4/50\n",
            "\u001b[1m133/133\u001b[0m \u001b[32m━━━━━━━━━━━━━━━━━━━━\u001b[0m\u001b[37m\u001b[0m \u001b[1m3s\u001b[0m 15ms/step - loss: 0.9398 - mae: 0.2480 - mse: 0.1043 - val_loss: 0.8651 - val_mae: 0.2019 - val_mse: 0.0486\n",
            "Epoch 5/50\n",
            "\u001b[1m133/133\u001b[0m \u001b[32m━━━━━━━━━━━━━━━━━━━━\u001b[0m\u001b[37m\u001b[0m \u001b[1m4s\u001b[0m 25ms/step - loss: 0.8947 - mae: 0.2219 - mse: 0.0847 - val_loss: 0.8219 - val_mae: 0.1538 - val_mse: 0.0314\n",
            "Epoch 6/50\n",
            "\u001b[1m133/133\u001b[0m \u001b[32m━━━━━━━━━━━━━━━━━━━━\u001b[0m\u001b[37m\u001b[0m \u001b[1m2s\u001b[0m 16ms/step - loss: 0.8565 - mae: 0.2047 - mse: 0.0726 - val_loss: 0.7828 - val_mae: 0.1037 - val_mse: 0.0188\n",
            "Epoch 7/50\n",
            "\u001b[1m133/133\u001b[0m \u001b[32m━━━━━━━━━━━━━━━━━━━━\u001b[0m\u001b[37m\u001b[0m \u001b[1m2s\u001b[0m 14ms/step - loss: 0.8228 - mae: 0.1938 - mse: 0.0654 - val_loss: 0.7528 - val_mae: 0.0853 - val_mse: 0.0154\n",
            "Epoch 8/50\n",
            "\u001b[1m133/133\u001b[0m \u001b[32m━━━━━━━━━━━━━━━━━━━━\u001b[0m\u001b[37m\u001b[0m \u001b[1m2s\u001b[0m 14ms/step - loss: 0.7830 - mae: 0.1725 - mse: 0.0523 - val_loss: 0.7231 - val_mae: 0.0753 - val_mse: 0.0124\n",
            "Epoch 9/50\n",
            "\u001b[1m133/133\u001b[0m \u001b[32m━━━━━━━━━━━━━━━━━━━━\u001b[0m\u001b[37m\u001b[0m \u001b[1m3s\u001b[0m 14ms/step - loss: 0.7490 - mae: 0.1604 - mse: 0.0449 - val_loss: 0.6975 - val_mae: 0.0783 - val_mse: 0.0133\n",
            "Epoch 10/50\n",
            "\u001b[1m133/133\u001b[0m \u001b[32m━━━━━━━━━━━━━━━━━━━━\u001b[0m\u001b[37m\u001b[0m \u001b[1m3s\u001b[0m 17ms/step - loss: 0.7219 - mae: 0.1582 - mse: 0.0444 - val_loss: 0.6682 - val_mae: 0.0610 - val_mse: 0.0104\n",
            "Epoch 11/50\n",
            "\u001b[1m133/133\u001b[0m \u001b[32m━━━━━━━━━━━━━━━━━━━━\u001b[0m\u001b[37m\u001b[0m \u001b[1m3s\u001b[0m 25ms/step - loss: 0.6921 - mae: 0.1467 - mse: 0.0408 - val_loss: 0.6434 - val_mae: 0.0647 - val_mse: 0.0117\n",
            "Epoch 12/50\n",
            "\u001b[1m133/133\u001b[0m \u001b[32m━━━━━━━━━━━━━━━━━━━━\u001b[0m\u001b[37m\u001b[0m \u001b[1m4s\u001b[0m 14ms/step - loss: 0.6609 - mae: 0.1392 - mse: 0.0355 - val_loss: 0.6154 - val_mae: 0.0615 - val_mse: 0.0092\n",
            "Epoch 13/50\n",
            "\u001b[1m133/133\u001b[0m \u001b[32m━━━━━━━━━━━━━━━━━━━━\u001b[0m\u001b[37m\u001b[0m \u001b[1m3s\u001b[0m 15ms/step - loss: 0.6313 - mae: 0.1319 - mse: 0.0314 - val_loss: 0.5905 - val_mae: 0.0555 - val_mse: 0.0093\n",
            "Epoch 14/50\n",
            "\u001b[1m133/133\u001b[0m \u001b[32m━━━━━━━━━━━━━━━━━━━━\u001b[0m\u001b[37m\u001b[0m \u001b[1m3s\u001b[0m 16ms/step - loss: 0.6061 - mae: 0.1278 - mse: 0.0310 - val_loss: 0.5653 - val_mae: 0.0555 - val_mse: 0.0087\n",
            "Epoch 15/50\n",
            "\u001b[1m133/133\u001b[0m \u001b[32m━━━━━━━━━━━━━━━━━━━━\u001b[0m\u001b[37m\u001b[0m \u001b[1m3s\u001b[0m 19ms/step - loss: 0.5762 - mae: 0.1184 - mse: 0.0256 - val_loss: 0.5394 - val_mae: 0.0558 - val_mse: 0.0068\n",
            "Epoch 16/50\n",
            "\u001b[1m133/133\u001b[0m \u001b[32m━━━━━━━━━━━━━━━━━━━━\u001b[0m\u001b[37m\u001b[0m \u001b[1m5s\u001b[0m 16ms/step - loss: 0.5515 - mae: 0.1159 - mse: 0.0248 - val_loss: 0.5175 - val_mae: 0.0560 - val_mse: 0.0083\n",
            "Epoch 17/50\n",
            "\u001b[1m133/133\u001b[0m \u001b[32m━━━━━━━━━━━━━━━━━━━━\u001b[0m\u001b[37m\u001b[0m \u001b[1m2s\u001b[0m 16ms/step - loss: 0.5258 - mae: 0.1093 - mse: 0.0224 - val_loss: 0.4931 - val_mae: 0.0520 - val_mse: 0.0067\n",
            "Epoch 18/50\n",
            "\u001b[1m133/133\u001b[0m \u001b[32m━━━━━━━━━━━━━━━━━━━━\u001b[0m\u001b[37m\u001b[0m \u001b[1m2s\u001b[0m 14ms/step - loss: 0.5006 - mae: 0.1025 - mse: 0.0199 - val_loss: 0.4718 - val_mae: 0.0618 - val_mse: 0.0077\n",
            "Epoch 19/50\n",
            "\u001b[1m133/133\u001b[0m \u001b[32m━━━━━━━━━━━━━━━━━━━━\u001b[0m\u001b[37m\u001b[0m \u001b[1m2s\u001b[0m 13ms/step - loss: 0.4803 - mae: 0.1038 - mse: 0.0215 - val_loss: 0.4493 - val_mae: 0.0516 - val_mse: 0.0067\n",
            "Epoch 20/50\n",
            "\u001b[1m133/133\u001b[0m \u001b[32m━━━━━━━━━━━━━━━━━━━━\u001b[0m\u001b[37m\u001b[0m \u001b[1m3s\u001b[0m 20ms/step - loss: 0.4555 - mae: 0.0984 - mse: 0.0181 - val_loss: 0.4300 - val_mae: 0.0624 - val_mse: 0.0082\n",
            "Epoch 21/50\n",
            "\u001b[1m133/133\u001b[0m \u001b[32m━━━━━━━━━━━━━━━━━━━━\u001b[0m\u001b[37m\u001b[0m \u001b[1m3s\u001b[0m 25ms/step - loss: 0.4345 - mae: 0.0978 - mse: 0.0178 - val_loss: 0.4085 - val_mae: 0.0496 - val_mse: 0.0070\n",
            "Epoch 22/50\n",
            "\u001b[1m133/133\u001b[0m \u001b[32m━━━━━━━━━━━━━━━━━━━━\u001b[0m\u001b[37m\u001b[0m \u001b[1m4s\u001b[0m 14ms/step - loss: 0.4135 - mae: 0.0926 - mse: 0.0169 - val_loss: 0.3883 - val_mae: 0.0502 - val_mse: 0.0063\n",
            "Epoch 23/50\n",
            "\u001b[1m133/133\u001b[0m \u001b[32m━━━━━━━━━━━━━━━━━━━━\u001b[0m\u001b[37m\u001b[0m \u001b[1m3s\u001b[0m 15ms/step - loss: 0.3919 - mae: 0.0858 - mse: 0.0146 - val_loss: 0.3699 - val_mae: 0.0474 - val_mse: 0.0066\n",
            "Epoch 24/50\n",
            "\u001b[1m133/133\u001b[0m \u001b[32m━━━━━━━━━━━━━━━━━━━━\u001b[0m\u001b[37m\u001b[0m \u001b[1m2s\u001b[0m 15ms/step - loss: 0.3745 - mae: 0.0885 - mse: 0.0158 - val_loss: 0.3521 - val_mae: 0.0567 - val_mse: 0.0069\n",
            "Epoch 25/50\n",
            "\u001b[1m133/133\u001b[0m \u001b[32m━━━━━━━━━━━━━━━━━━━━\u001b[0m\u001b[37m\u001b[0m \u001b[1m3s\u001b[0m 16ms/step - loss: 0.3547 - mae: 0.0834 - mse: 0.0139 - val_loss: 0.3342 - val_mae: 0.0466 - val_mse: 0.0064\n",
            "Epoch 26/50\n",
            "\u001b[1m133/133\u001b[0m \u001b[32m━━━━━━━━━━━━━━━━━━━━\u001b[0m\u001b[37m\u001b[0m \u001b[1m4s\u001b[0m 23ms/step - loss: 0.3373 - mae: 0.0823 - mse: 0.0138 - val_loss: 0.3174 - val_mae: 0.0494 - val_mse: 0.0063\n",
            "Epoch 27/50\n",
            "\u001b[1m133/133\u001b[0m \u001b[32m━━━━━━━━━━━━━━━━━━━━\u001b[0m\u001b[37m\u001b[0m \u001b[1m4s\u001b[0m 14ms/step - loss: 0.3191 - mae: 0.0763 - mse: 0.0121 - val_loss: 0.3019 - val_mae: 0.0545 - val_mse: 0.0068\n",
            "Epoch 28/50\n",
            "\u001b[1m133/133\u001b[0m \u001b[32m━━━━━━━━━━━━━━━━━━━━\u001b[0m\u001b[37m\u001b[0m \u001b[1m2s\u001b[0m 14ms/step - loss: 0.3036 - mae: 0.0772 - mse: 0.0124 - val_loss: 0.2853 - val_mae: 0.0490 - val_mse: 0.0056\n",
            "Epoch 29/50\n",
            "\u001b[1m133/133\u001b[0m \u001b[32m━━━━━━━━━━━━━━━━━━━━\u001b[0m\u001b[37m\u001b[0m \u001b[1m2s\u001b[0m 16ms/step - loss: 0.2873 - mae: 0.0740 - mse: 0.0113 - val_loss: 0.2711 - val_mae: 0.0477 - val_mse: 0.0060\n",
            "Epoch 30/50\n",
            "\u001b[1m133/133\u001b[0m \u001b[32m━━━━━━━━━━━━━━━━━━━━\u001b[0m\u001b[37m\u001b[0m \u001b[1m2s\u001b[0m 16ms/step - loss: 0.2726 - mae: 0.0730 - mse: 0.0111 - val_loss: 0.2573 - val_mae: 0.0549 - val_mse: 0.0062\n",
            "Epoch 31/50\n",
            "\u001b[1m133/133\u001b[0m \u001b[32m━━━━━━━━━━━━━━━━━━━━\u001b[0m\u001b[37m\u001b[0m \u001b[1m4s\u001b[0m 28ms/step - loss: 0.2578 - mae: 0.0712 - mse: 0.0101 - val_loss: 0.2437 - val_mae: 0.0459 - val_mse: 0.0060\n",
            "Epoch 32/50\n",
            "\u001b[1m133/133\u001b[0m \u001b[32m━━━━━━━━━━━━━━━━━━━━\u001b[0m\u001b[37m\u001b[0m \u001b[1m3s\u001b[0m 15ms/step - loss: 0.2444 - mae: 0.0695 - mse: 0.0100 - val_loss: 0.2305 - val_mae: 0.0486 - val_mse: 0.0056\n",
            "Epoch 33/50\n",
            "\u001b[1m133/133\u001b[0m \u001b[32m━━━━━━━━━━━━━━━━━━━━\u001b[0m\u001b[37m\u001b[0m \u001b[1m2s\u001b[0m 14ms/step - loss: 0.2326 - mae: 0.0696 - mse: 0.0107 - val_loss: 0.2188 - val_mae: 0.0514 - val_mse: 0.0060\n",
            "Epoch 34/50\n",
            "\u001b[1m133/133\u001b[0m \u001b[32m━━━━━━━━━━━━━━━━━━━━\u001b[0m\u001b[37m\u001b[0m \u001b[1m3s\u001b[0m 14ms/step - loss: 0.2202 - mae: 0.0685 - mse: 0.0103 - val_loss: 0.2071 - val_mae: 0.0502 - val_mse: 0.0059\n",
            "Epoch 35/50\n",
            "\u001b[1m133/133\u001b[0m \u001b[32m━━━━━━━━━━━━━━━━━━━━\u001b[0m\u001b[37m\u001b[0m \u001b[1m2s\u001b[0m 15ms/step - loss: 0.2080 - mae: 0.0657 - mse: 0.0096 - val_loss: 0.1962 - val_mae: 0.0505 - val_mse: 0.0059\n",
            "Epoch 36/50\n",
            "\u001b[1m133/133\u001b[0m \u001b[32m━━━━━━━━━━━━━━━━━━━━\u001b[0m\u001b[37m\u001b[0m \u001b[1m3s\u001b[0m 23ms/step - loss: 0.1973 - mae: 0.0656 - mse: 0.0097 - val_loss: 0.1861 - val_mae: 0.0538 - val_mse: 0.0062\n",
            "Epoch 37/50\n",
            "\u001b[1m133/133\u001b[0m \u001b[32m━━━━━━━━━━━━━━━━━━━━\u001b[0m\u001b[37m\u001b[0m \u001b[1m3s\u001b[0m 24ms/step - loss: 0.1858 - mae: 0.0636 - mse: 0.0084 - val_loss: 0.1755 - val_mae: 0.0487 - val_mse: 0.0055\n",
            "Epoch 38/50\n",
            "\u001b[1m133/133\u001b[0m \u001b[32m━━━━━━━━━━━━━━━━━━━━\u001b[0m\u001b[37m\u001b[0m \u001b[1m4s\u001b[0m 14ms/step - loss: 0.1756 - mae: 0.0617 - mse: 0.0080 - val_loss: 0.1665 - val_mae: 0.0480 - val_mse: 0.0059\n",
            "Epoch 39/50\n",
            "\u001b[1m133/133\u001b[0m \u001b[32m━━━━━━━━━━━━━━━━━━━━\u001b[0m\u001b[37m\u001b[0m \u001b[1m3s\u001b[0m 18ms/step - loss: 0.1662 - mae: 0.0615 - mse: 0.0079 - val_loss: 0.1571 - val_mae: 0.0501 - val_mse: 0.0054\n",
            "Epoch 40/50\n",
            "\u001b[1m133/133\u001b[0m \u001b[32m━━━━━━━━━━━━━━━━━━━━\u001b[0m\u001b[37m\u001b[0m \u001b[1m2s\u001b[0m 17ms/step - loss: 0.1577 - mae: 0.0602 - mse: 0.0081 - val_loss: 0.1490 - val_mae: 0.0561 - val_mse: 0.0057\n",
            "Epoch 41/50\n",
            "\u001b[1m133/133\u001b[0m \u001b[32m━━━━━━━━━━━━━━━━━━━━\u001b[0m\u001b[37m\u001b[0m \u001b[1m3s\u001b[0m 21ms/step - loss: 0.1484 - mae: 0.0584 - mse: 0.0071 - val_loss: 0.1416 - val_mae: 0.0556 - val_mse: 0.0063\n",
            "Epoch 42/50\n",
            "\u001b[1m133/133\u001b[0m \u001b[32m━━━━━━━━━━━━━━━━━━━━\u001b[0m\u001b[37m\u001b[0m \u001b[1m3s\u001b[0m 24ms/step - loss: 0.1422 - mae: 0.0629 - mse: 0.0088 - val_loss: 0.1333 - val_mae: 0.0516 - val_mse: 0.0056\n",
            "Epoch 43/50\n",
            "\u001b[1m133/133\u001b[0m \u001b[32m━━━━━━━━━━━━━━━━━━━━\u001b[0m\u001b[37m\u001b[0m \u001b[1m2s\u001b[0m 16ms/step - loss: 0.1332 - mae: 0.0564 - mse: 0.0072 - val_loss: 0.1261 - val_mae: 0.0452 - val_mse: 0.0055\n",
            "Epoch 44/50\n",
            "\u001b[1m133/133\u001b[0m \u001b[32m━━━━━━━━━━━━━━━━━━━━\u001b[0m\u001b[37m\u001b[0m \u001b[1m2s\u001b[0m 14ms/step - loss: 0.1269 - mae: 0.0593 - mse: 0.0080 - val_loss: 0.1193 - val_mae: 0.0499 - val_mse: 0.0054\n",
            "Epoch 45/50\n",
            "\u001b[1m133/133\u001b[0m \u001b[32m━━━━━━━━━━━━━━━━━━━━\u001b[0m\u001b[37m\u001b[0m \u001b[1m2s\u001b[0m 15ms/step - loss: 0.1197 - mae: 0.0564 - mse: 0.0074 - val_loss: 0.1129 - val_mae: 0.0508 - val_mse: 0.0054\n",
            "Epoch 46/50\n",
            "\u001b[1m133/133\u001b[0m \u001b[32m━━━━━━━━━━━━━━━━━━━━\u001b[0m\u001b[37m\u001b[0m \u001b[1m2s\u001b[0m 16ms/step - loss: 0.1148 - mae: 0.0591 - mse: 0.0089 - val_loss: 0.1069 - val_mae: 0.0475 - val_mse: 0.0054\n",
            "Epoch 47/50\n",
            "\u001b[1m133/133\u001b[0m \u001b[32m━━━━━━━━━━━━━━━━━━━━\u001b[0m\u001b[37m\u001b[0m \u001b[1m3s\u001b[0m 19ms/step - loss: 0.1072 - mae: 0.0555 - mse: 0.0071 - val_loss: 0.1012 - val_mae: 0.0481 - val_mse: 0.0054\n",
            "Epoch 48/50\n",
            "\u001b[1m133/133\u001b[0m \u001b[32m━━━━━━━━━━━━━━━━━━━━\u001b[0m\u001b[37m\u001b[0m \u001b[1m3s\u001b[0m 25ms/step - loss: 0.1021 - mae: 0.0567 - mse: 0.0077 - val_loss: 0.0959 - val_mae: 0.0486 - val_mse: 0.0054\n",
            "Epoch 49/50\n",
            "\u001b[1m133/133\u001b[0m \u001b[32m━━━━━━━━━━━━━━━━━━━━\u001b[0m\u001b[37m\u001b[0m \u001b[1m4s\u001b[0m 16ms/step - loss: 0.0967 - mae: 0.0565 - mse: 0.0075 - val_loss: 0.0910 - val_mae: 0.0450 - val_mse: 0.0056\n",
            "Epoch 50/50\n",
            "\u001b[1m133/133\u001b[0m \u001b[32m━━━━━━━━━━━━━━━━━━━━\u001b[0m\u001b[37m\u001b[0m \u001b[1m2s\u001b[0m 14ms/step - loss: 0.0914 - mae: 0.0562 - mse: 0.0072 - val_loss: 0.0860 - val_mae: 0.0493 - val_mse: 0.0053\n"
          ]
        }
      ],
      "source": [
        "import numpy as np\n",
        "import pandas as pd\n",
        "from sklearn.preprocessing import MinMaxScaler\n",
        "from sklearn.model_selection import train_test_split\n",
        "from tensorflow.keras.models import Sequential\n",
        "from tensorflow.keras.layers import LSTM, Dense, BatchNormalization, Dropout, Input\n",
        "from tensorflow.keras.callbacks import ModelCheckpoint, EarlyStopping\n",
        "from tensorflow.keras.optimizers import Adam\n",
        "from tensorflow.keras.regularizers import l2\n",
        "import matplotlib.pyplot as plt\n",
        "# Select the columns to normalize\n",
        "columns_to_normalize = ['v [m/yr]', 'v_error [m/yr]', 'vx [m/yr]', 'vx_error [m/yr]', 'vy [m/yr]', 'vy_error [m/yr]']\n",
        "\n",
        "# Normalize the data\n",
        "scaler = MinMaxScaler()\n",
        "scaled_data = scaler.fit_transform(df[['v [m/yr]', 'vx [m/yr]', 'vy [m/yr]', 'v_error [m/yr]', 'vx_error [m/yr]', 'vy_error [m/yr]']])\n",
        "\n",
        "# Create sequences\n",
        "def create_sequences(data, timesteps):\n",
        "    sequences = []\n",
        "    for i in range(len(data) - timesteps):\n",
        "        seq = data[i:(i + timesteps)]\n",
        "        sequences.append(seq)\n",
        "    return np.array(sequences)\n",
        "\n",
        "timesteps = 10\n",
        "features = scaled_data.shape[1]\n",
        "data_sequences = create_sequences(scaled_data, timesteps)\n",
        "\n",
        "# Split into features and targets\n",
        "X = data_sequences[:, :-1]\n",
        "y = data_sequences[:, -1, 0]  # Assuming you want to predict the first column 'v [m/yr]'\n",
        "\n",
        "# Train/Test Split\n",
        "X_train, X_test, y_train, y_test = train_test_split(X, y, test_size=0.2, random_state=42)\n",
        "\n",
        "# Define the LSTM model\n",
        "model = Sequential()\n",
        "model.add(Input(shape=(timesteps - 1, features)))\n",
        "model.add(LSTM(50, kernel_regularizer=l2(0.01), return_sequences=True))\n",
        "model.add(BatchNormalization())\n",
        "model.add(Dropout(0.3))\n",
        "model.add(LSTM(50, kernel_regularizer=l2(0.01)))\n",
        "model.add(BatchNormalization())\n",
        "model.add(Dense(1))\n",
        "optimizer = Adam(learning_rate=0.00005)\n",
        "model.compile(optimizer=optimizer, loss='mean_squared_error', metrics=['mae', 'mse'])\n",
        "\n",
        "# Callbacks for early stopping and saving the best model\n",
        "callbacks = [\n",
        "    ModelCheckpoint('best_model.keras', monitor='val_loss', save_best_only=True, mode='min'),\n",
        "    EarlyStopping(monitor='val_loss', patience=10, mode='min')\n",
        "]\n",
        "\n",
        "# Train the model\n",
        "history = model.fit(X_train, y_train, epochs=50, batch_size=32, validation_data=(X_test, y_test), callbacks=callbacks)\n",
        "\n"
      ]
    },
    {
      "cell_type": "code",
      "execution_count": null,
      "metadata": {
        "id": "7Hpkeq7LDyaL",
        "colab": {
          "base_uri": "https://localhost:8080/",
          "height": 1000
        },
        "outputId": "deab2833-566c-4fef-ebee-1a9c584bd810"
      },
      "outputs": [
        {
          "output_type": "display_data",
          "data": {
            "text/plain": [
              "<Figure size 640x480 with 1 Axes>"
            ],
            "image/png": "[encoded data removed]"
          },
          "metadata": {}
        },
        {
          "output_type": "display_data",
          "data": {
            "text/plain": [
              "<Figure size 640x480 with 1 Axes>"
            ],
            "image/png": "[encoded data removed]"
          },
          "metadata": {}
        },
        {
          "output_type": "display_data",
          "data": {
            "text/plain": [
              "<Figure size 640x480 with 1 Axes>"
            ],
            "image/png": "[encoded data removed]"
          },
          "metadata": {}
        }
      ],
      "source": [
        "# Plot training & validation loss values\n",
        "plt.plot(history.history['loss'])\n",
        "plt.plot(history.history['val_loss'])\n",
        "plt.title('Model loss')\n",
        "plt.ylabel('Loss')\n",
        "plt.xlabel('Epoch')\n",
        "plt.legend(['Train', 'Test'], loc='upper right')\n",
        "plt.show()\n",
        "\n",
        "# Plot training & validation MAE values\n",
        "plt.plot(history.history['mae'])\n",
        "plt.plot(history.history['val_mae'])\n",
        "plt.title('Model Mean Absolute Error')\n",
        "plt.ylabel('MAE')\n",
        "plt.xlabel('Epoch')\n",
        "plt.legend(['Train', 'Test'], loc='upper right')\n",
        "plt.show()\n",
        "\n",
        "# Plot training & validation MSE values\n",
        "plt.plot(history.history['mse'])\n",
        "plt.plot(history.history['val_mse'])\n",
        "plt.title('Model Mean Squared Error')\n",
        "plt.ylabel('MSE')\n",
        "plt.xlabel('Epoch')\n",
        "plt.legend(['Train', 'Test'], loc='upper right')\n",
        "\n",
        "plt.show()"
      ]
    },
    {
      "cell_type": "code",
      "source": [
        "import pandas as pd\n",
        "\n",
        "df = pd.read_csv('/content/drive/MyDrive/DS/CSVs/Output_Shishper_Glacier_Coordinates_Optimized/combined_data.csv')\n",
        "\n"
      ],
      "metadata": {
        "id": "AG-SWmJocR7H"
      },
      "execution_count": null,
      "outputs": []
    },
    {
      "cell_type": "code",
      "source": [
        "import numpy as np\n",
        "import pandas as pd\n",
        "from sklearn.preprocessing import MinMaxScaler\n",
        "from sklearn.model_selection import train_test_split\n",
        "from tensorflow.keras.models import Sequential\n",
        "from tensorflow.keras.layers import LSTM, Dense, BatchNormalization, Dropout, Input\n",
        "from tensorflow.keras.callbacks import ModelCheckpoint, EarlyStopping\n",
        "from tensorflow.keras.optimizers import Adam\n",
        "from tensorflow.keras.regularizers import l2\n",
        "import matplotlib.pyplot as plt\n",
        "\n",
        "# Assume df is already loaded with your data\n",
        "df = pd.read_csv('/content/drive/MyDrive/DS/CSVs/Output_Shishper_Glacier_Coordinates_Optimized/combined_data.csv')\n",
        "# Select the columns to normalize\n",
        "columns_to_normalize = ['v [m/yr]', 'v_error [m/yr]', 'vx [m/yr]', 'vx_error [m/yr]', 'vy [m/yr]', 'vy_error [m/yr]']\n",
        "\n",
        "# Normalize the data\n",
        "scaler = MinMaxScaler()\n",
        "scaled_data = scaler.fit_transform(df[columns_to_normalize])\n",
        "\n",
        "# Create sequences\n",
        "def create_sequences(data, timesteps):\n",
        "    sequences = []\n",
        "    for i in range(len(data) - timesteps):\n",
        "        seq = data[i:(i + timesteps)]\n",
        "        sequences.append(seq)\n",
        "    return np.array(sequences)\n",
        "\n",
        "timesteps = 10\n",
        "features = scaled_data.shape[1]\n",
        "data_sequences = create_sequences(scaled_data, timesteps)\n",
        "\n",
        "# Split into features and targets\n",
        "X = data_sequences[:, :-1]\n",
        "y = data_sequences[:, -1, 0]  # Assuming you want to predict the first column 'v [m/yr]'\n",
        "\n",
        "# Train/Test Split\n",
        "X_train, X_test, y_train, y_test = train_test_split(X, y, test_size=0.2, random_state=42)\n",
        "\n",
        "# Define the LSTM model\n",
        "model = Sequential()\n",
        "model.add(Input(shape=(timesteps - 1, features)))\n",
        "model.add(LSTM(50, kernel_regularizer=l2(0.01), return_sequences=True))\n",
        "model.add(BatchNormalization())\n",
        "model.add(Dropout(0.3))\n",
        "model.add(LSTM(50, kernel_regularizer=l2(0.01)))\n",
        "model.add(BatchNormalization())\n",
        "model.add(Dense(1))\n",
        "optimizer = Adam(learning_rate=0.00005)\n",
        "model.compile(optimizer=optimizer, loss='mean_squared_error', metrics=['mae', 'mse'])\n",
        "\n",
        "# Path to save the model in Google Drive\n",
        "model_save_path = '/content/drive/MyDrive/DS/trained_models/best_model.keras'\n",
        "\n",
        "# Callbacks for early stopping and saving the best model\n",
        "callbacks = [\n",
        "    ModelCheckpoint(model_save_path, monitor='val_loss', save_best_only=True, mode='min'),\n",
        "    EarlyStopping(monitor='val_loss', patience=10, mode='min')\n",
        "]\n",
        "\n",
        "# Train the model\n",
        "history = model.fit(X_train, y_train, epochs=10, batch_size=64, validation_data=(X_test, y_test), callbacks=callbacks)\n"
      ],
      "metadata": {
        "id": "uvZTxFIsTrt6"
      },
      "execution_count": null,
      "outputs": []
    },
    {
      "cell_type": "code",
      "source": [
        "!itslive-export --lat 76.511 --lon -36.185 --format csv --outdir shishper_test"
      ],
      "metadata": {
        "colab": {
          "base_uri": "https://localhost:8080/"
        },
        "id": "iG9jqPidQkYD",
        "outputId": "90fc5ee7-ae31-4af4-c4bb-8a300a5a7dd4"
      },
      "execution_count": null,
      "outputs": [
        {
          "output_type": "stream",
          "name": "stdout",
          "text": [
            "\u001b[2KProcessing 1 coordinates... \u001b[90m━━━━━━━━━━━━━━━━━━━━━━━━━━━━━━━━━━━━━━━━\u001b[0m \u001b[35m100%\u001b[0m \u001b[33m0:00:08\u001b[0m\n",
            "\u001b[?25h"
          ]
        }
      ]
    },
    {
      "cell_type": "code",
      "source": [
        "ls"
      ],
      "metadata": {
        "colab": {
          "base_uri": "https://localhost:8080/"
        },
        "id": "Ss61kHUtRuq6",
        "outputId": "b47a0fe7-e2f9-4bb4-b3c5-4a7a93dba4ea"
      },
      "execution_count": null,
      "outputs": [
        {
          "output_type": "stream",
          "name": "stdout",
          "text": [
            "\u001b[0m\u001b[01;34mdrive\u001b[0m/  \u001b[01;34msample_data\u001b[0m/  \u001b[01;34mshishper_test\u001b[0m/\n"
          ]
        }
      ]
    },
    {
      "cell_type": "code",
      "source": [
        "import numpy as np\n",
        "import pandas as pd\n",
        "from tensorflow.keras.models import load_model\n",
        "from sklearn.preprocessing import MinMaxScaler\n",
        "from sklearn.model_selection import train_test_split\n",
        "from tensorflow.keras.models import Sequential\n",
        "from tensorflow.keras.layers import LSTM, Dense, BatchNormalization, Dropout, Input\n",
        "from tensorflow.keras.callbacks import ModelCheckpoint, EarlyStopping\n",
        "from tensorflow.keras.optimizers import Adam\n",
        "from tensorflow.keras.regularizers import l2\n",
        "\n",
        "# Load your scaler and model\n",
        "scaler = MinMaxScaler()\n",
        "model = load_model('best_model.keras')\n",
        "\n",
        "# Load new data\n",
        "new_data = pd.read_csv('new_data.csv')\n",
        "\n",
        "# Normalize the new data\n",
        "new_scaled_data = scaler.transform(new_data[['v [m/yr]', 'vx [m/yr]', 'vy [m/yr]', 'v_error [m/yr]', 'vx_error [m/yr]', 'vy_error [m/yr]']])\n",
        "\n",
        "# Create sequences\n",
        "def create_sequences(data, timesteps):\n",
        "    sequences = []\n",
        "    for i in range(len(data) - timesteps):\n",
        "        seq = data[i:(i + timesteps)]\n",
        "        sequences.append(seq)\n",
        "    return np.array(sequences)\n",
        "\n",
        "timesteps = 10\n",
        "new_data_sequences = create_sequences(new_scaled_data, timesteps)\n",
        "\n",
        "# Extract features for prediction\n",
        "X_new = new_data_sequences[:, :-1]\n",
        "\n",
        "# Make predictions\n",
        "predictions = model.predict(X_new)\n",
        "\n",
        "# Inverse transform the predictions if necessary\n",
        "predicted_v = scaler.inverse_transform(predictions)\n",
        "\n",
        "# Print or save the predictions\n",
        "print(predicted_v)\n"
      ],
      "metadata": {
        "colab": {
          "base_uri": "https://localhost:8080/",
          "height": 367
        },
        "id": "IWoCbCKrRm32",
        "outputId": "0efa934f-4fce-4097-d0c7-f5600224d1a8"
      },
      "execution_count": null,
      "outputs": [
        {
          "output_type": "error",
          "ename": "ValueError",
          "evalue": "File not found: filepath=best_model.keras. Please ensure the file is an accessible `.keras` zip file.",
          "traceback": [
            "\u001b[0;31m---------------------------------------------------------------------------\u001b[0m",
            "\u001b[0;31mValueError\u001b[0m                                Traceback (most recent call last)",
            "\u001b[0;32m<ipython-input-1-93ad4a906cc1>\u001b[0m in \u001b[0;36m<cell line: 14>\u001b[0;34m()\u001b[0m\n\u001b[1;32m     12\u001b[0m \u001b[0;31m# Load your scaler and model\u001b[0m\u001b[0;34m\u001b[0m\u001b[0;34m\u001b[0m\u001b[0m\n\u001b[1;32m     13\u001b[0m \u001b[0mscaler\u001b[0m \u001b[0;34m=\u001b[0m \u001b[0mMinMaxScaler\u001b[0m\u001b[0;34m(\u001b[0m\u001b[0;34m)\u001b[0m\u001b[0;34m\u001b[0m\u001b[0;34m\u001b[0m\u001b[0m\n\u001b[0;32m---> 14\u001b[0;31m \u001b[0mmodel\u001b[0m \u001b[0;34m=\u001b[0m \u001b[0mload_model\u001b[0m\u001b[0;34m(\u001b[0m\u001b[0;34m'best_model.keras'\u001b[0m\u001b[0;34m)\u001b[0m\u001b[0;34m\u001b[0m\u001b[0;34m\u001b[0m\u001b[0m\n\u001b[0m\u001b[1;32m     15\u001b[0m \u001b[0;34m\u001b[0m\u001b[0m\n\u001b[1;32m     16\u001b[0m \u001b[0;31m# Load new data\u001b[0m\u001b[0;34m\u001b[0m\u001b[0;34m\u001b[0m\u001b[0m\n",
            "\u001b[0;32m/usr/local/lib/python3.10/dist-packages/keras/src/saving/saving_api.py\u001b[0m in \u001b[0;36mload_model\u001b[0;34m(filepath, custom_objects, compile, safe_mode)\u001b[0m\n\u001b[1;32m    191\u001b[0m         )\n\u001b[1;32m    192\u001b[0m     \u001b[0;32melif\u001b[0m \u001b[0mstr\u001b[0m\u001b[0;34m(\u001b[0m\u001b[0mfilepath\u001b[0m\u001b[0;34m)\u001b[0m\u001b[0;34m.\u001b[0m\u001b[0mendswith\u001b[0m\u001b[0;34m(\u001b[0m\u001b[0;34m\".keras\"\u001b[0m\u001b[0;34m)\u001b[0m\u001b[0;34m:\u001b[0m\u001b[0;34m\u001b[0m\u001b[0;34m\u001b[0m\u001b[0m\n\u001b[0;32m--> 193\u001b[0;31m         raise ValueError(\n\u001b[0m\u001b[1;32m    194\u001b[0m             \u001b[0;34mf\"File not found: filepath={filepath}. \"\u001b[0m\u001b[0;34m\u001b[0m\u001b[0;34m\u001b[0m\u001b[0m\n\u001b[1;32m    195\u001b[0m             \u001b[0;34m\"Please ensure the file is an accessible `.keras` \"\u001b[0m\u001b[0;34m\u001b[0m\u001b[0;34m\u001b[0m\u001b[0m\n",
            "\u001b[0;31mValueError\u001b[0m: File not found: filepath=best_model.keras. Please ensure the file is an accessible `.keras` zip file."
          ]
        }
      ]
    }
  ],
  "metadata": {
    "colab": {
      "provenance": [],
      "gpuType": "V28"
    },
    "kernelspec": {
      "display_name": "Python 3",
      "name": "python3"
    },
    "language_info": {
      "name": "python"
    },
    "accelerator": "TPU"
  },
  "nbformat": 4,
  "nbformat_minor": 0
}